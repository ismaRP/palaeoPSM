{
 "cells": [
  {
   "cell_type": "code",
   "id": "initial_id",
   "metadata": {
    "collapsed": true,
    "ExecuteTime": {
     "end_time": "2024-04-26T15:01:26.129687Z",
     "start_time": "2024-04-26T15:01:25.639409Z"
    }
   },
   "source": [
    "from palaeoPSM import psm_read\n",
    "from Bio import SeqIO\n",
    "import time\n"
   ],
   "outputs": [],
   "execution_count": 1
  },
  {
   "metadata": {
    "ExecuteTime": {
     "end_time": "2024-04-26T15:01:26.142977Z",
     "start_time": "2024-04-26T15:01:26.131213Z"
    }
   },
   "cell_type": "code",
   "source": [
    "db1 = '../test_data/benchmark_DB1.fasta'\n",
    "record_dict = SeqIO.to_dict(SeqIO.parse(db1, \"fasta\"))\n",
    "\n",
    "contams = '../test_data/contams.fasta'\n",
    "contams_dict = SeqIO.to_dict(SeqIO.parse(contams, \"fasta\"))"
   ],
   "id": "50c20efed7705ea5",
   "outputs": [],
   "execution_count": 2
  },
  {
   "metadata": {
    "ExecuteTime": {
     "end_time": "2024-04-26T15:01:28.116307Z",
     "start_time": "2024-04-26T15:01:26.821637Z"
    }
   },
   "cell_type": "code",
   "source": [
    "fp_tsv_briquettes = psm_read.FragPipeRun(\n",
    "    path='../test_data/benchmarking_data_st_db1',\n",
    "    db=record_dict,\n",
    "    run_id='milk_st_db1',\n",
    "    contams=contams_dict,\n",
    "    format='tsv',\n",
    "    decoy_tag='rev',\n",
    "    n_scans_path='../test_data/n_scans.csv'\n",
    ")\n",
    "\n",
    "data = fp_tsv_briquettes.read()"
   ],
   "id": "9df53f85cd695e43",
   "outputs": [
    {
     "name": "stdout",
     "output_type": "stream",
     "text": [
      "Reading # of scans from ../test_data/n_scans.csv\n",
      "Collecting PSMs from tsv files\n",
      "\tReading sample N0040 ... \n",
      "\tReading sample N0000 ... \n",
      "\tReading sample N1280 ... \n"
     ]
    },
    {
     "ename": "AttributeError",
     "evalue": "'float' object has no attribute 'split'",
     "output_type": "error",
     "traceback": [
      "\u001B[0;31m---------------------------------------------------------------------------\u001B[0m",
      "\u001B[0;31mAttributeError\u001B[0m                            Traceback (most recent call last)",
      "Cell \u001B[0;32mIn[3], line 11\u001B[0m\n\u001B[1;32m      1\u001B[0m fp_tsv_briquettes \u001B[38;5;241m=\u001B[39m psm_read\u001B[38;5;241m.\u001B[39mFragPipeRun(\n\u001B[1;32m      2\u001B[0m     path\u001B[38;5;241m=\u001B[39m\u001B[38;5;124m'\u001B[39m\u001B[38;5;124m../test_data/benchmarking_data_st_db1\u001B[39m\u001B[38;5;124m'\u001B[39m,\n\u001B[1;32m      3\u001B[0m     db\u001B[38;5;241m=\u001B[39mrecord_dict,\n\u001B[0;32m   (...)\u001B[0m\n\u001B[1;32m      8\u001B[0m     n_scans_path\u001B[38;5;241m=\u001B[39m\u001B[38;5;124m'\u001B[39m\u001B[38;5;124m../test_data/n_scans.csv\u001B[39m\u001B[38;5;124m'\u001B[39m\n\u001B[1;32m      9\u001B[0m )\n\u001B[0;32m---> 11\u001B[0m data \u001B[38;5;241m=\u001B[39m fp_tsv_briquettes\u001B[38;5;241m.\u001B[39mread()\n",
      "File \u001B[0;32m~/palaeoproteomics/palaeoPSM/palaeoPSM/psm_read.py:412\u001B[0m, in \u001B[0;36mFragPipeRun.read\u001B[0;34m(self, n_procs, save_path, remove_contams, remove_decoy)\u001B[0m\n\u001B[1;32m    410\u001B[0m     frag_psm_data \u001B[38;5;241m=\u001B[39m \u001B[38;5;28mself\u001B[39m\u001B[38;5;241m.\u001B[39mread_pepxml(n_procs\u001B[38;5;241m=\u001B[39mn_procs)\n\u001B[1;32m    411\u001B[0m \u001B[38;5;28;01melif\u001B[39;00m \u001B[38;5;28mself\u001B[39m\u001B[38;5;241m.\u001B[39mformat \u001B[38;5;241m==\u001B[39m \u001B[38;5;124m'\u001B[39m\u001B[38;5;124mtsv\u001B[39m\u001B[38;5;124m'\u001B[39m:\n\u001B[0;32m--> 412\u001B[0m     frag_psm_data \u001B[38;5;241m=\u001B[39m \u001B[38;5;28mself\u001B[39m\u001B[38;5;241m.\u001B[39mread_fp_tsv()\n\u001B[1;32m    413\u001B[0m \u001B[38;5;28;01mif\u001B[39;00m save_path \u001B[38;5;129;01mis\u001B[39;00m \u001B[38;5;129;01mnot\u001B[39;00m \u001B[38;5;28;01mNone\u001B[39;00m:\n\u001B[1;32m    414\u001B[0m     \u001B[38;5;28mprint\u001B[39m(\u001B[38;5;124mf\u001B[39m\u001B[38;5;124m'\u001B[39m\u001B[38;5;124mSaving PSMs to \u001B[39m\u001B[38;5;132;01m{\u001B[39;00msave_path\u001B[38;5;132;01m}\u001B[39;00m\u001B[38;5;124m'\u001B[39m)\n",
      "File \u001B[0;32m~/palaeoproteomics/palaeoPSM/palaeoPSM/psm_read.py:395\u001B[0m, in \u001B[0;36mFragPipeRun.read_fp_tsv\u001B[0;34m(self)\u001B[0m\n\u001B[1;32m    391\u001B[0m frag_psm_data[\u001B[38;5;124m'\u001B[39m\u001B[38;5;124mRun_id\u001B[39m\u001B[38;5;124m'\u001B[39m] \u001B[38;5;241m=\u001B[39m \u001B[38;5;28mself\u001B[39m\u001B[38;5;241m.\u001B[39mrun_id\n\u001B[1;32m    392\u001B[0m frag_psm_data[\u001B[38;5;124m'\u001B[39m\u001B[38;5;124mstart\u001B[39m\u001B[38;5;124m'\u001B[39m] \u001B[38;5;241m=\u001B[39m frag_psm_data[\u001B[38;5;124m'\u001B[39m\u001B[38;5;124mstart\u001B[39m\u001B[38;5;124m'\u001B[39m] \u001B[38;5;241m-\u001B[39m \u001B[38;5;241m1\u001B[39m\n\u001B[1;32m    393\u001B[0m frag_psm_data[\u001B[38;5;124m'\u001B[39m\u001B[38;5;124mvar_mods_pos\u001B[39m\u001B[38;5;124m'\u001B[39m] \u001B[38;5;241m=\u001B[39m (\n\u001B[1;32m    394\u001B[0m     frag_psm_data\n\u001B[0;32m--> 395\u001B[0m     \u001B[38;5;241m.\u001B[39mapply(\u001B[38;5;28;01mlambda\u001B[39;00m x: \u001B[38;5;28mself\u001B[39m\u001B[38;5;241m.\u001B[39mget_var_mods_pos(x[\u001B[38;5;124m'\u001B[39m\u001B[38;5;124mvar_mods_pos\u001B[39m\u001B[38;5;124m'\u001B[39m], x[\u001B[38;5;124m'\u001B[39m\u001B[38;5;124mSeq\u001B[39m\u001B[38;5;124m'\u001B[39m]), axis\u001B[38;5;241m=\u001B[39m\u001B[38;5;241m1\u001B[39m))\n\u001B[1;32m    397\u001B[0m mods_regex \u001B[38;5;241m=\u001B[39m re\u001B[38;5;241m.\u001B[39mcompile(\u001B[38;5;124mr\u001B[39m\u001B[38;5;124m'\u001B[39m\u001B[38;5;124mMod\u001B[39m\u001B[38;5;124m\\\u001B[39m\u001B[38;5;124md: (.+?)[,\u001B[39m\u001B[38;5;124m\\\u001B[39m\u001B[38;5;124m(]\u001B[39m\u001B[38;5;124m'\u001B[39m)\n\u001B[1;32m    398\u001B[0m frag_psm_data[[\u001B[38;5;124m'\u001B[39m\u001B[38;5;124mdelta_mass_mods_pos\u001B[39m\u001B[38;5;124m'\u001B[39m, \u001B[38;5;124m'\u001B[39m\u001B[38;5;124mdelta_mas_pos\u001B[39m\u001B[38;5;124m'\u001B[39m]] \u001B[38;5;241m=\u001B[39m (\n\u001B[1;32m    399\u001B[0m     frag_psm_data\n\u001B[1;32m    400\u001B[0m     \u001B[38;5;241m.\u001B[39mapply(\u001B[38;5;28;01mlambda\u001B[39;00m x: \u001B[38;5;28mself\u001B[39m\u001B[38;5;241m.\u001B[39mget_delta_mass_mods_pos(\n\u001B[1;32m    401\u001B[0m         x[\u001B[38;5;124m'\u001B[39m\u001B[38;5;124mdelta_mass_mods\u001B[39m\u001B[38;5;124m'\u001B[39m], x[\u001B[38;5;124m'\u001B[39m\u001B[38;5;124mSeq\u001B[39m\u001B[38;5;124m'\u001B[39m], x[\u001B[38;5;124m'\u001B[39m\u001B[38;5;124mdelta_mass_mods_pos\u001B[39m\u001B[38;5;124m'\u001B[39m], x[\u001B[38;5;124m'\u001B[39m\u001B[38;5;124mdelta_mass\u001B[39m\u001B[38;5;124m'\u001B[39m], mods_regex),\n\u001B[1;32m    402\u001B[0m         result_type\u001B[38;5;241m=\u001B[39m\u001B[38;5;124m'\u001B[39m\u001B[38;5;124mexpand\u001B[39m\u001B[38;5;124m'\u001B[39m, axis\u001B[38;5;241m=\u001B[39m\u001B[38;5;241m1\u001B[39m)\n\u001B[1;32m    403\u001B[0m )\n",
      "File \u001B[0;32m~/anaconda3/envs/palaeopsm/lib/python3.11/site-packages/pandas/core/frame.py:10361\u001B[0m, in \u001B[0;36mDataFrame.apply\u001B[0;34m(self, func, axis, raw, result_type, args, by_row, engine, engine_kwargs, **kwargs)\u001B[0m\n\u001B[1;32m  10347\u001B[0m \u001B[38;5;28;01mfrom\u001B[39;00m \u001B[38;5;21;01mpandas\u001B[39;00m\u001B[38;5;21;01m.\u001B[39;00m\u001B[38;5;21;01mcore\u001B[39;00m\u001B[38;5;21;01m.\u001B[39;00m\u001B[38;5;21;01mapply\u001B[39;00m \u001B[38;5;28;01mimport\u001B[39;00m frame_apply\n\u001B[1;32m  10349\u001B[0m op \u001B[38;5;241m=\u001B[39m frame_apply(\n\u001B[1;32m  10350\u001B[0m     \u001B[38;5;28mself\u001B[39m,\n\u001B[1;32m  10351\u001B[0m     func\u001B[38;5;241m=\u001B[39mfunc,\n\u001B[0;32m   (...)\u001B[0m\n\u001B[1;32m  10359\u001B[0m     kwargs\u001B[38;5;241m=\u001B[39mkwargs,\n\u001B[1;32m  10360\u001B[0m )\n\u001B[0;32m> 10361\u001B[0m \u001B[38;5;28;01mreturn\u001B[39;00m op\u001B[38;5;241m.\u001B[39mapply()\u001B[38;5;241m.\u001B[39m__finalize__(\u001B[38;5;28mself\u001B[39m, method\u001B[38;5;241m=\u001B[39m\u001B[38;5;124m\"\u001B[39m\u001B[38;5;124mapply\u001B[39m\u001B[38;5;124m\"\u001B[39m)\n",
      "File \u001B[0;32m~/anaconda3/envs/palaeopsm/lib/python3.11/site-packages/pandas/core/apply.py:916\u001B[0m, in \u001B[0;36mFrameApply.apply\u001B[0;34m(self)\u001B[0m\n\u001B[1;32m    913\u001B[0m \u001B[38;5;28;01melif\u001B[39;00m \u001B[38;5;28mself\u001B[39m\u001B[38;5;241m.\u001B[39mraw:\n\u001B[1;32m    914\u001B[0m     \u001B[38;5;28;01mreturn\u001B[39;00m \u001B[38;5;28mself\u001B[39m\u001B[38;5;241m.\u001B[39mapply_raw(engine\u001B[38;5;241m=\u001B[39m\u001B[38;5;28mself\u001B[39m\u001B[38;5;241m.\u001B[39mengine, engine_kwargs\u001B[38;5;241m=\u001B[39m\u001B[38;5;28mself\u001B[39m\u001B[38;5;241m.\u001B[39mengine_kwargs)\n\u001B[0;32m--> 916\u001B[0m \u001B[38;5;28;01mreturn\u001B[39;00m \u001B[38;5;28mself\u001B[39m\u001B[38;5;241m.\u001B[39mapply_standard()\n",
      "File \u001B[0;32m~/anaconda3/envs/palaeopsm/lib/python3.11/site-packages/pandas/core/apply.py:1063\u001B[0m, in \u001B[0;36mFrameApply.apply_standard\u001B[0;34m(self)\u001B[0m\n\u001B[1;32m   1061\u001B[0m \u001B[38;5;28;01mdef\u001B[39;00m \u001B[38;5;21mapply_standard\u001B[39m(\u001B[38;5;28mself\u001B[39m):\n\u001B[1;32m   1062\u001B[0m     \u001B[38;5;28;01mif\u001B[39;00m \u001B[38;5;28mself\u001B[39m\u001B[38;5;241m.\u001B[39mengine \u001B[38;5;241m==\u001B[39m \u001B[38;5;124m\"\u001B[39m\u001B[38;5;124mpython\u001B[39m\u001B[38;5;124m\"\u001B[39m:\n\u001B[0;32m-> 1063\u001B[0m         results, res_index \u001B[38;5;241m=\u001B[39m \u001B[38;5;28mself\u001B[39m\u001B[38;5;241m.\u001B[39mapply_series_generator()\n\u001B[1;32m   1064\u001B[0m     \u001B[38;5;28;01melse\u001B[39;00m:\n\u001B[1;32m   1065\u001B[0m         results, res_index \u001B[38;5;241m=\u001B[39m \u001B[38;5;28mself\u001B[39m\u001B[38;5;241m.\u001B[39mapply_series_numba()\n",
      "File \u001B[0;32m~/anaconda3/envs/palaeopsm/lib/python3.11/site-packages/pandas/core/apply.py:1081\u001B[0m, in \u001B[0;36mFrameApply.apply_series_generator\u001B[0;34m(self)\u001B[0m\n\u001B[1;32m   1078\u001B[0m \u001B[38;5;28;01mwith\u001B[39;00m option_context(\u001B[38;5;124m\"\u001B[39m\u001B[38;5;124mmode.chained_assignment\u001B[39m\u001B[38;5;124m\"\u001B[39m, \u001B[38;5;28;01mNone\u001B[39;00m):\n\u001B[1;32m   1079\u001B[0m     \u001B[38;5;28;01mfor\u001B[39;00m i, v \u001B[38;5;129;01min\u001B[39;00m \u001B[38;5;28menumerate\u001B[39m(series_gen):\n\u001B[1;32m   1080\u001B[0m         \u001B[38;5;66;03m# ignore SettingWithCopy here in case the user mutates\u001B[39;00m\n\u001B[0;32m-> 1081\u001B[0m         results[i] \u001B[38;5;241m=\u001B[39m \u001B[38;5;28mself\u001B[39m\u001B[38;5;241m.\u001B[39mfunc(v, \u001B[38;5;241m*\u001B[39m\u001B[38;5;28mself\u001B[39m\u001B[38;5;241m.\u001B[39margs, \u001B[38;5;241m*\u001B[39m\u001B[38;5;241m*\u001B[39m\u001B[38;5;28mself\u001B[39m\u001B[38;5;241m.\u001B[39mkwargs)\n\u001B[1;32m   1082\u001B[0m         \u001B[38;5;28;01mif\u001B[39;00m \u001B[38;5;28misinstance\u001B[39m(results[i], ABCSeries):\n\u001B[1;32m   1083\u001B[0m             \u001B[38;5;66;03m# If we have a view on v, we need to make a copy because\u001B[39;00m\n\u001B[1;32m   1084\u001B[0m             \u001B[38;5;66;03m#  series_generator will swap out the underlying data\u001B[39;00m\n\u001B[1;32m   1085\u001B[0m             results[i] \u001B[38;5;241m=\u001B[39m results[i]\u001B[38;5;241m.\u001B[39mcopy(deep\u001B[38;5;241m=\u001B[39m\u001B[38;5;28;01mFalse\u001B[39;00m)\n",
      "File \u001B[0;32m~/palaeoproteomics/palaeoPSM/palaeoPSM/psm_read.py:395\u001B[0m, in \u001B[0;36mFragPipeRun.read_fp_tsv.<locals>.<lambda>\u001B[0;34m(x)\u001B[0m\n\u001B[1;32m    391\u001B[0m frag_psm_data[\u001B[38;5;124m'\u001B[39m\u001B[38;5;124mRun_id\u001B[39m\u001B[38;5;124m'\u001B[39m] \u001B[38;5;241m=\u001B[39m \u001B[38;5;28mself\u001B[39m\u001B[38;5;241m.\u001B[39mrun_id\n\u001B[1;32m    392\u001B[0m frag_psm_data[\u001B[38;5;124m'\u001B[39m\u001B[38;5;124mstart\u001B[39m\u001B[38;5;124m'\u001B[39m] \u001B[38;5;241m=\u001B[39m frag_psm_data[\u001B[38;5;124m'\u001B[39m\u001B[38;5;124mstart\u001B[39m\u001B[38;5;124m'\u001B[39m] \u001B[38;5;241m-\u001B[39m \u001B[38;5;241m1\u001B[39m\n\u001B[1;32m    393\u001B[0m frag_psm_data[\u001B[38;5;124m'\u001B[39m\u001B[38;5;124mvar_mods_pos\u001B[39m\u001B[38;5;124m'\u001B[39m] \u001B[38;5;241m=\u001B[39m (\n\u001B[1;32m    394\u001B[0m     frag_psm_data\n\u001B[0;32m--> 395\u001B[0m     \u001B[38;5;241m.\u001B[39mapply(\u001B[38;5;28;01mlambda\u001B[39;00m x: \u001B[38;5;28mself\u001B[39m\u001B[38;5;241m.\u001B[39mget_var_mods_pos(x[\u001B[38;5;124m'\u001B[39m\u001B[38;5;124mvar_mods_pos\u001B[39m\u001B[38;5;124m'\u001B[39m], x[\u001B[38;5;124m'\u001B[39m\u001B[38;5;124mSeq\u001B[39m\u001B[38;5;124m'\u001B[39m]), axis\u001B[38;5;241m=\u001B[39m\u001B[38;5;241m1\u001B[39m))\n\u001B[1;32m    397\u001B[0m mods_regex \u001B[38;5;241m=\u001B[39m re\u001B[38;5;241m.\u001B[39mcompile(\u001B[38;5;124mr\u001B[39m\u001B[38;5;124m'\u001B[39m\u001B[38;5;124mMod\u001B[39m\u001B[38;5;124m\\\u001B[39m\u001B[38;5;124md: (.+?)[,\u001B[39m\u001B[38;5;124m\\\u001B[39m\u001B[38;5;124m(]\u001B[39m\u001B[38;5;124m'\u001B[39m)\n\u001B[1;32m    398\u001B[0m frag_psm_data[[\u001B[38;5;124m'\u001B[39m\u001B[38;5;124mdelta_mass_mods_pos\u001B[39m\u001B[38;5;124m'\u001B[39m, \u001B[38;5;124m'\u001B[39m\u001B[38;5;124mdelta_mas_pos\u001B[39m\u001B[38;5;124m'\u001B[39m]] \u001B[38;5;241m=\u001B[39m (\n\u001B[1;32m    399\u001B[0m     frag_psm_data\n\u001B[1;32m    400\u001B[0m     \u001B[38;5;241m.\u001B[39mapply(\u001B[38;5;28;01mlambda\u001B[39;00m x: \u001B[38;5;28mself\u001B[39m\u001B[38;5;241m.\u001B[39mget_delta_mass_mods_pos(\n\u001B[1;32m    401\u001B[0m         x[\u001B[38;5;124m'\u001B[39m\u001B[38;5;124mdelta_mass_mods\u001B[39m\u001B[38;5;124m'\u001B[39m], x[\u001B[38;5;124m'\u001B[39m\u001B[38;5;124mSeq\u001B[39m\u001B[38;5;124m'\u001B[39m], x[\u001B[38;5;124m'\u001B[39m\u001B[38;5;124mdelta_mass_mods_pos\u001B[39m\u001B[38;5;124m'\u001B[39m], x[\u001B[38;5;124m'\u001B[39m\u001B[38;5;124mdelta_mass\u001B[39m\u001B[38;5;124m'\u001B[39m], mods_regex),\n\u001B[1;32m    402\u001B[0m         result_type\u001B[38;5;241m=\u001B[39m\u001B[38;5;124m'\u001B[39m\u001B[38;5;124mexpand\u001B[39m\u001B[38;5;124m'\u001B[39m, axis\u001B[38;5;241m=\u001B[39m\u001B[38;5;241m1\u001B[39m)\n\u001B[1;32m    403\u001B[0m )\n",
      "File \u001B[0;32m~/palaeoproteomics/palaeoPSM/palaeoPSM/psm_read.py:360\u001B[0m, in \u001B[0;36mFragPipeRun.get_var_mods_pos\u001B[0;34m(vms, pept_seq)\u001B[0m\n\u001B[1;32m    357\u001B[0m \u001B[38;5;129m@staticmethod\u001B[39m\n\u001B[1;32m    358\u001B[0m \u001B[38;5;28;01mdef\u001B[39;00m \u001B[38;5;21mget_var_mods_pos\u001B[39m(vms, pept_seq):\n\u001B[1;32m    359\u001B[0m     var_mods_pos \u001B[38;5;241m=\u001B[39m [\u001B[38;5;241m0\u001B[39m] \u001B[38;5;241m*\u001B[39m \u001B[38;5;28mlen\u001B[39m(pept_seq)\n\u001B[0;32m--> 360\u001B[0m     vms \u001B[38;5;241m=\u001B[39m vms\u001B[38;5;241m.\u001B[39msplit(\u001B[38;5;124m'\u001B[39m\u001B[38;5;124m,\u001B[39m\u001B[38;5;124m'\u001B[39m)\n\u001B[1;32m    361\u001B[0m     \u001B[38;5;28;01mfor\u001B[39;00m m \u001B[38;5;129;01min\u001B[39;00m vms:\n\u001B[1;32m    362\u001B[0m         m \u001B[38;5;241m=\u001B[39m m\u001B[38;5;241m.\u001B[39msplit(\u001B[38;5;124m'\u001B[39m\u001B[38;5;124m(\u001B[39m\u001B[38;5;124m'\u001B[39m)\n",
      "\u001B[0;31mAttributeError\u001B[0m: 'float' object has no attribute 'split'"
     ]
    }
   ],
   "execution_count": 3
  },
  {
   "metadata": {},
   "cell_type": "code",
   "outputs": [
    {
     "name": "stdout",
     "output_type": "stream",
     "text": [
      "Reading # of scans from ../test_data/n_scans.csv\n"
     ]
    }
   ],
   "execution_count": 5,
   "source": [
    "fp_pepxml_briquettes = psm_read.FragPipeRun(\n",
    "    path='../test_data/benchmarking_data_st_db1',\n",
    "    db=record_dict,\n",
    "    run_id='milk_st_db1',\n",
    "    contams=contams_dict,\n",
    "    format='pepXML',\n",
    "    decoy_tag='rev',\n",
    "    n_scans_path='../test_data/n_scans.csv'\n",
    ")"
   ],
   "id": "d4dcabe968bb04d0"
  },
  {
   "metadata": {},
   "cell_type": "code",
   "outputs": [
    {
     "name": "stdout",
     "output_type": "stream",
     "text": [
      "Collecting PSMs from pepXML files\n",
      "\tReading sample N0040 ... Done\n",
      "\tReading sample N0000 ... Done\n",
      "\tReading sample N1280 ... Done\n",
      "--- 16.46669340133667 seconds ---\n",
      "Collecting PSMs from pepXML files\n",
      "\tReading sample N0040 ... Done\n",
      "\tReading sample N0000 ... Done\n",
      "\tReading sample N1280 ... Done\n",
      "--- 13.430009126663208 seconds ---\n"
     ]
    }
   ],
   "execution_count": 4,
   "source": [
    "start_time = time.time()\n",
    "data = fp_pepxml_briquettes.read(n_procs=1)\n",
    "print(\"--- %s seconds ---\" % (time.time() - start_time))\n",
    "\n",
    "start_time = time.time()\n",
    "data = fp_pepxml_briquettes.read(n_procs=10)\n",
    "print(\"--- %s seconds ---\" % (time.time() - start_time))"
   ],
   "id": "a99d98742f2ffe7a"
  }
 ],
 "metadata": {
  "kernelspec": {
   "display_name": "Python 3",
   "language": "python",
   "name": "python3"
  },
  "language_info": {
   "codemirror_mode": {
    "name": "ipython",
    "version": 2
   },
   "file_extension": ".py",
   "mimetype": "text/x-python",
   "name": "python",
   "nbconvert_exporter": "python",
   "pygments_lexer": "ipython2",
   "version": "2.7.6"
  }
 },
 "nbformat": 4,
 "nbformat_minor": 5
}
