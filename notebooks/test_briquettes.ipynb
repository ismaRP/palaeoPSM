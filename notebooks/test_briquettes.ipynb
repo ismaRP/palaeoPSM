{
 "cells": [
  {
   "cell_type": "code",
   "id": "initial_id",
   "metadata": {
    "collapsed": true,
    "ExecuteTime": {
     "end_time": "2024-04-20T14:17:32.214054Z",
     "start_time": "2024-04-20T14:17:31.520958Z"
    }
   },
   "source": [
    "import data_read\n",
    "from Bio import SeqIO"
   ],
   "outputs": [],
   "execution_count": 1
  },
  {
   "metadata": {
    "ExecuteTime": {
     "end_time": "2024-04-20T14:17:32.224959Z",
     "start_time": "2024-04-20T14:17:32.216047Z"
    }
   },
   "cell_type": "code",
   "source": [
    "db1 = '/home/ismael/palaeoproteomics/briquettes/databases/DB1_all_annotated_dairy_BLG_variants_ArchaecRAP3.2_nodups_norevs.fasta'\n",
    "record_dict = SeqIO.to_dict(SeqIO.parse(db1, \"fasta\"))"
   ],
   "id": "50c20efed7705ea5",
   "outputs": [],
   "execution_count": 2
  },
  {
   "cell_type": "code",
   "outputs": [
    {
     "data": {
      "text/plain": "'/home/ismael/palaeoproteomics/briquettes/databases/DB1_all_annotated_dairy_BLG_variants_ArchaecRAP3.2_nodups_norevs.fasta'"
     },
     "execution_count": 3,
     "metadata": {},
     "output_type": "execute_result"
    }
   ],
   "source": [
    "db1"
   ],
   "metadata": {
    "collapsed": false,
    "ExecuteTime": {
     "end_time": "2024-04-20T14:17:32.249966Z",
     "start_time": "2024-04-20T14:17:32.225830Z"
    }
   },
   "id": "94f33d82ce8ac344",
   "execution_count": 3
  },
  {
   "metadata": {
    "ExecuteTime": {
     "end_time": "2024-04-20T14:17:33.616905Z",
     "start_time": "2024-04-20T14:17:32.251408Z"
    }
   },
   "cell_type": "code",
   "source": [
    "fp_test_briquettes = data_read.FragPipeRun(\n",
    "    path='/home/ismael/palaeoproteomics/briquettes/fp_results/milk_st_db1',\n",
    "    db=record_dict,\n",
    "    run_id='milk_st_db1',\n",
    "    format='pepXML',\n",
    "    decoy_tag='rev'\n",
    ")"
   ],
   "id": "d4dcabe968bb04d0",
   "outputs": [],
   "execution_count": 4
  },
  {
   "cell_type": "code",
   "outputs": [
    {
     "name": "stdout",
     "output_type": "stream",
     "text": [
      "\tReading sample control_3B ... Done\n",
      "\tReading sample milk_1B ... Done\n",
      "\tReading sample milk_7A ... Done\n",
      "\tReading sample milk_1A ... Done\n",
      "\tReading sample control_2A ... Done\n",
      "\tReading sample control_3A ... Done\n",
      "\tReading sample milk_8B ... Done\n",
      "\tReading sample control_5A ... Done\n",
      "\tReading sample control_8B ... Done\n",
      "\tReading sample control_1A ... Done\n",
      "\tReading sample control_6A ... Done\n",
      "\tReading sample milk_3A ... Done\n",
      "\tReading sample milk_2B ... Done\n",
      "\tReading sample control_7A ... Done\n",
      "\tReading sample blank_1 ... Done\n",
      "\tReading sample milk_3B ... Done\n",
      "\tReading sample milk_8A ... Done\n",
      "\tReading sample control_1B ... Done\n",
      "\tReading sample milk_5A ... Done\n",
      "\tReading sample blank_2 ... Done\n",
      "\tReading sample milk_6A ... Done\n",
      "\tReading sample control_8A ... Done\n",
      "\tReading sample milk_2A ... Done\n",
      "\tReading sample control_2B ... Done\n"
     ]
    }
   ],
   "source": [
    "data = fp_test_briquettes.read(n_procs=1)"
   ],
   "metadata": {
    "collapsed": false,
    "ExecuteTime": {
     "end_time": "2024-04-20T14:19:43.209472Z",
     "start_time": "2024-04-20T14:17:34.908820Z"
    }
   },
   "id": "a99d98742f2ffe7a",
   "execution_count": 5
  },
  {
   "cell_type": "code",
   "outputs": [],
   "source": [
    "data"
   ],
   "metadata": {
    "collapsed": false
   },
   "id": "6e8d72b19a795f9",
   "execution_count": null
  }
 ],
 "metadata": {
  "kernelspec": {
   "display_name": "Python 3",
   "language": "python",
   "name": "python3"
  },
  "language_info": {
   "codemirror_mode": {
    "name": "ipython",
    "version": 2
   },
   "file_extension": ".py",
   "mimetype": "text/x-python",
   "name": "python",
   "nbconvert_exporter": "python",
   "pygments_lexer": "ipython2",
   "version": "2.7.6"
  }
 },
 "nbformat": 4,
 "nbformat_minor": 5
}
