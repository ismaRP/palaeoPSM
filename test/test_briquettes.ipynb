{
 "cells": [
  {
   "cell_type": "code",
   "id": "initial_id",
   "metadata": {
    "collapsed": true,
    "ExecuteTime": {
     "end_time": "2024-04-19T15:28:22.528422Z",
     "start_time": "2024-04-19T15:28:21.629755Z"
    }
   },
   "source": [
    "import data_read\n",
    "from Bio import SeqIO"
   ],
   "outputs": [],
   "execution_count": 4
  },
  {
   "metadata": {
    "ExecuteTime": {
     "end_time": "2024-04-19T15:28:29.010336Z",
     "start_time": "2024-04-19T15:28:28.996412Z"
    }
   },
   "cell_type": "code",
   "source": [
    "db1 = '/home/ismael/palaeoproteomics/briquettes/databases/DB1_all_annotated_dairy_BLG_variants_ArchaecRAP3.2_nodups_norevs.fasta'\n",
    "record_dict = SeqIO.to_dict(SeqIO.parse(db1, \"fasta\"))"
   ],
   "id": "50c20efed7705ea5",
   "outputs": [],
   "execution_count": 5
  },
  {
   "metadata": {
    "ExecuteTime": {
     "end_time": "2024-04-19T15:28:31.180104Z",
     "start_time": "2024-04-19T15:28:31.135995Z"
    }
   },
   "cell_type": "code",
   "source": [
    "fp_test_briquettes = data_read.FragPipeRun(\n",
    "    path='/home/ismael/palaeoproteomics/briquettes/test_results/milk_st_db1',\n",
    "    db=db1,\n",
    "    run_id='milk_st_db1',\n",
    "    format='pepXML',\n",
    "    decoy_tag='rev'\n",
    ")"
   ],
   "id": "d4dcabe968bb04d0",
   "outputs": [
    {
     "ename": "TypeError",
     "evalue": "__init__() got an unexpected keyword argument 'pepxml_data'",
     "output_type": "error",
     "traceback": [
      "\u001B[0;31m---------------------------------------------------------------------------\u001B[0m",
      "\u001B[0;31mTypeError\u001B[0m                                 Traceback (most recent call last)",
      "\u001B[0;32m/tmp/ipykernel_5582/1961906532.py\u001B[0m in \u001B[0;36m<module>\u001B[0;34m\u001B[0m\n\u001B[0;32m----> 1\u001B[0;31m fp_test_briquettes = data_read.FragPipeRun(\n\u001B[0m\u001B[1;32m      2\u001B[0m     \u001B[0mpath\u001B[0m\u001B[0;34m=\u001B[0m\u001B[0;34m'/home/ismael/palaeoproteomics/briquettes/test_results/milk_st_db1'\u001B[0m\u001B[0;34m,\u001B[0m\u001B[0;34m\u001B[0m\u001B[0;34m\u001B[0m\u001B[0m\n\u001B[1;32m      3\u001B[0m     \u001B[0mdb\u001B[0m\u001B[0;34m=\u001B[0m\u001B[0mdb1\u001B[0m\u001B[0;34m,\u001B[0m\u001B[0;34m\u001B[0m\u001B[0;34m\u001B[0m\u001B[0m\n\u001B[1;32m      4\u001B[0m     \u001B[0mrun_id\u001B[0m\u001B[0;34m=\u001B[0m\u001B[0;34m'milk_st_db1'\u001B[0m\u001B[0;34m,\u001B[0m\u001B[0;34m\u001B[0m\u001B[0;34m\u001B[0m\u001B[0m\n\u001B[1;32m      5\u001B[0m     \u001B[0mformat\u001B[0m\u001B[0;34m=\u001B[0m\u001B[0;34m'pepXML'\u001B[0m\u001B[0;34m,\u001B[0m\u001B[0;34m\u001B[0m\u001B[0;34m\u001B[0m\u001B[0m\n",
      "\u001B[0;32m~/palaeoproteomics/pyPP/data_read.py\u001B[0m in \u001B[0;36m__init__\u001B[0;34m(self, path, db, run_id, format, decoy_tag)\u001B[0m\n\u001B[1;32m    334\u001B[0m                 \u001B[0;34m'is_decoy'\u001B[0m\u001B[0;34m,\u001B[0m\u001B[0;34m\u001B[0m\u001B[0;34m\u001B[0m\u001B[0m\n\u001B[1;32m    335\u001B[0m             ]\n\u001B[0;32m--> 336\u001B[0;31m             \u001B[0mself\u001B[0m\u001B[0;34m.\u001B[0m\u001B[0mfragpipe_pepxml_target\u001B[0m \u001B[0;34m=\u001B[0m \u001B[0mPepXMLdataExtractor\u001B[0m\u001B[0;34m(\u001B[0m\u001B[0mflavour\u001B[0m\u001B[0;34m=\u001B[0m\u001B[0;34m'fragpipe'\u001B[0m\u001B[0;34m,\u001B[0m \u001B[0mpepxml_data\u001B[0m\u001B[0;34m=\u001B[0m\u001B[0mself\u001B[0m\u001B[0;34m.\u001B[0m\u001B[0mpepxml_data\u001B[0m\u001B[0;34m)\u001B[0m\u001B[0;34m\u001B[0m\u001B[0;34m\u001B[0m\u001B[0m\n\u001B[0m\u001B[1;32m    337\u001B[0m         \u001B[0;32melse\u001B[0m\u001B[0;34m:\u001B[0m\u001B[0;34m\u001B[0m\u001B[0;34m\u001B[0m\u001B[0m\n\u001B[1;32m    338\u001B[0m             \u001B[0msys\u001B[0m\u001B[0;34m.\u001B[0m\u001B[0mexit\u001B[0m\u001B[0;34m(\u001B[0m\u001B[0;34m'Unknown format: '\u001B[0m \u001B[0;34m+\u001B[0m \u001B[0mself\u001B[0m\u001B[0;34m.\u001B[0m\u001B[0mformat\u001B[0m\u001B[0;34m)\u001B[0m\u001B[0;34m\u001B[0m\u001B[0;34m\u001B[0m\u001B[0m\n",
      "\u001B[0;31mTypeError\u001B[0m: __init__() got an unexpected keyword argument 'pepxml_data'"
     ]
    }
   ],
   "execution_count": 6
  }
 ],
 "metadata": {
  "kernelspec": {
   "display_name": "Python 3",
   "language": "python",
   "name": "python3"
  },
  "language_info": {
   "codemirror_mode": {
    "name": "ipython",
    "version": 2
   },
   "file_extension": ".py",
   "mimetype": "text/x-python",
   "name": "python",
   "nbconvert_exporter": "python",
   "pygments_lexer": "ipython2",
   "version": "2.7.6"
  }
 },
 "nbformat": 4,
 "nbformat_minor": 5
}
